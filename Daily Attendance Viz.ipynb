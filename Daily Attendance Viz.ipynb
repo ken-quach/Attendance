{
 "cells": [
  {
   "cell_type": "code",
   "execution_count": 11,
   "id": "9638b316-ab52-4cb9-8b8d-066c40646f7d",
   "metadata": {},
   "outputs": [],
   "source": [
    "import pandas as pd\n",
    "import matplotlib.pyplot as plt\n",
    "import numpy as np\n",
    "from ipywidgets import interact, widgets\n",
    "import ipywidgets as widgets\n"
   ]
  },
  {
   "cell_type": "code",
   "execution_count": 12,
   "id": "d0ef5fd2-7042-4677-9e7f-17c4b11cf416",
   "metadata": {},
   "outputs": [],
   "source": [
    "df = pd.read_csv(r\"C:\\Users\\kquach\\Downloads\\Daily Attendance Data - Sheet1.csv\")"
   ]
  },
  {
   "cell_type": "code",
   "execution_count": 13,
   "id": "23ee35d6-dbda-4453-bf4e-f1f9c080655e",
   "metadata": {},
   "outputs": [],
   "source": [
    "def Attendance_Code(x):\n",
    "    if 'Late' in x:\n",
    "        return 'Present-Late'\n",
    "    if 'Present' in x:\n",
    "        return 'Present'\n",
    "    if 'Absent' in x:\n",
    "        return 'Absent'\n",
    "    if 'No Classes' in x:\n",
    "        return 'Not Taken - Not Rostered to Classes'\n",
    "    else:\n",
    "        return x\n",
    "df['Attendance_Code'] = df['Code'].apply(lambda x: Attendance_Code(x))"
   ]
  },
  {
   "cell_type": "code",
   "execution_count": 26,
   "id": "1edc0379-0020-4061-93a3-d1b6c44665c5",
   "metadata": {},
   "outputs": [],
   "source": [
    "#.size() returns the number of values grouped by Date and Attendance Code as a SERIES\n",
    "#.to_frame() converts the series into a Dataframe. We also name the .size() output with a column called 'Count'\n",
    "occur= df.groupby(['Date', 'Attendance_Code']).size().to_frame('Count')"
   ]
  },
  {
   "cell_type": "code",
   "execution_count": 71,
   "id": "6184a02a-99ef-4710-a692-5b891d913afb",
   "metadata": {},
   "outputs": [
    {
     "data": {
      "text/html": [
       "<div>\n",
       "<style scoped>\n",
       "    .dataframe tbody tr th:only-of-type {\n",
       "        vertical-align: middle;\n",
       "    }\n",
       "\n",
       "    .dataframe tbody tr th {\n",
       "        vertical-align: top;\n",
       "    }\n",
       "\n",
       "    .dataframe thead th {\n",
       "        text-align: right;\n",
       "    }\n",
       "</style>\n",
       "<table border=\"1\" class=\"dataframe\">\n",
       "  <thead>\n",
       "    <tr style=\"text-align: right;\">\n",
       "      <th></th>\n",
       "      <th></th>\n",
       "      <th>Count</th>\n",
       "    </tr>\n",
       "    <tr>\n",
       "      <th>Date</th>\n",
       "      <th>Attendance_Code</th>\n",
       "      <th></th>\n",
       "    </tr>\n",
       "  </thead>\n",
       "  <tbody>\n",
       "    <tr>\n",
       "      <th rowspan=\"3\" valign=\"top\">01/02/2024</th>\n",
       "      <th>Absent</th>\n",
       "      <td>144</td>\n",
       "    </tr>\n",
       "    <tr>\n",
       "      <th>Present</th>\n",
       "      <td>856</td>\n",
       "    </tr>\n",
       "    <tr>\n",
       "      <th>Present-Late</th>\n",
       "      <td>83</td>\n",
       "    </tr>\n",
       "    <tr>\n",
       "      <th rowspan=\"3\" valign=\"top\">01/03/2024</th>\n",
       "      <th>Absent</th>\n",
       "      <td>82</td>\n",
       "    </tr>\n",
       "    <tr>\n",
       "      <th>Present</th>\n",
       "      <td>908</td>\n",
       "    </tr>\n",
       "    <tr>\n",
       "      <th>Present-Late</th>\n",
       "      <td>95</td>\n",
       "    </tr>\n",
       "    <tr>\n",
       "      <th rowspan=\"3\" valign=\"top\">01/04/2024</th>\n",
       "      <th>Absent</th>\n",
       "      <td>75</td>\n",
       "    </tr>\n",
       "    <tr>\n",
       "      <th>Present</th>\n",
       "      <td>965</td>\n",
       "    </tr>\n",
       "    <tr>\n",
       "      <th>Present-Late</th>\n",
       "      <td>44</td>\n",
       "    </tr>\n",
       "    <tr>\n",
       "      <th>01/05/2024</th>\n",
       "      <th>Absent</th>\n",
       "      <td>112</td>\n",
       "    </tr>\n",
       "  </tbody>\n",
       "</table>\n",
       "</div>"
      ],
      "text/plain": [
       "                            Count\n",
       "Date       Attendance_Code       \n",
       "01/02/2024 Absent             144\n",
       "           Present            856\n",
       "           Present-Late        83\n",
       "01/03/2024 Absent              82\n",
       "           Present            908\n",
       "           Present-Late        95\n",
       "01/04/2024 Absent              75\n",
       "           Present            965\n",
       "           Present-Late        44\n",
       "01/05/2024 Absent             112"
      ]
     },
     "execution_count": 71,
     "metadata": {},
     "output_type": "execute_result"
    }
   ],
   "source": [
    "occur.head(10)\n"
   ]
  },
  {
   "cell_type": "code",
   "execution_count": 47,
   "id": "2d611747-53f4-402a-8a43-793ca79d3f88",
   "metadata": {},
   "outputs": [],
   "source": [
    "def graph(select_date):\n",
    "    colors = ['steelblue','pink','silver','red']\n",
    "    plt.figure(figsize=(8, 8))\n",
    "    filtered_data = occur.loc[select_date]\n",
    "    filtered_data.plot(kind = 'pie', y = 'Count', autopct='%1.0f%%', legend=False, colors=colors)\n",
    "    plt.title(f'Attendance Distribution for {select_date}')\n",
    "    plt.axis=('equal')\n",
    "    plt.show()"
   ]
  },
  {
   "cell_type": "code",
   "execution_count": 48,
   "id": "bbc27647-dc94-4f82-a41f-a0ba8769899a",
   "metadata": {},
   "outputs": [],
   "source": [
    "dropdown=widgets.Dropdown(\n",
    "    options=occur.index.get_level_values('Date').unique(),\n",
    "    description = 'Select Date: ',\n",
    "    disabled = False\n",
    ")"
   ]
  },
  {
   "cell_type": "code",
   "execution_count": 49,
   "id": "8c9e919f-9e86-44f1-ab5a-3790831d9f96",
   "metadata": {},
   "outputs": [
    {
     "data": {
      "application/vnd.jupyter.widget-view+json": {
       "model_id": "c623d41440244dc1b378628a9f13b4e1",
       "version_major": 2,
       "version_minor": 0
      },
      "text/plain": [
       "interactive(children=(Dropdown(description='Select Date: ', options=('01/02/2024', '01/03/2024', '01/04/2024',…"
      ]
     },
     "metadata": {},
     "output_type": "display_data"
    }
   ],
   "source": [
    "interact(graph,select_date=dropdown);"
   ]
  },
  {
   "cell_type": "code",
   "execution_count": null,
   "id": "0463f4af-d03c-4d73-9ec5-e565ae0709a8",
   "metadata": {},
   "outputs": [],
   "source": []
  }
 ],
 "metadata": {
  "kernelspec": {
   "display_name": "Python 3 (ipykernel)",
   "language": "python",
   "name": "python3"
  },
  "language_info": {
   "codemirror_mode": {
    "name": "ipython",
    "version": 3
   },
   "file_extension": ".py",
   "mimetype": "text/x-python",
   "name": "python",
   "nbconvert_exporter": "python",
   "pygments_lexer": "ipython3",
   "version": "3.12.2"
  }
 },
 "nbformat": 4,
 "nbformat_minor": 5
}
